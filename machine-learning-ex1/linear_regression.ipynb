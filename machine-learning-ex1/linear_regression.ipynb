{
 "cells": [
  {
   "cell_type": "markdown",
   "metadata": {},
   "source": [
    "# Linear Regression"
   ]
  },
  {
   "cell_type": "markdown",
   "metadata": {},
   "source": [
    "This is the first assignment from Andrew Ng's Machine Learning class. In this notebook we perform linear regression with one variable and with multiple variables. "
   ]
  },
  {
   "cell_type": "markdown",
   "metadata": {},
   "source": [
    "## Importing Libraries"
   ]
  },
  {
   "cell_type": "code",
   "execution_count": 1,
   "metadata": {
    "collapsed": true
   },
   "outputs": [],
   "source": [
    "import numpy as np\n",
    "import matplotlib.pyplot as plt\n",
    "%matplotlib inline"
   ]
  },
  {
   "cell_type": "markdown",
   "metadata": {},
   "source": [
    "# Linear Regression with One Variable"
   ]
  },
  {
   "cell_type": "markdown",
   "metadata": {},
   "source": [
    "Loading data from text file into a numpy ndarray."
   ]
  },
  {
   "cell_type": "code",
   "execution_count": 2,
   "metadata": {
    "collapsed": false
   },
   "outputs": [
    {
     "name": "stdout",
     "output_type": "stream",
     "text": [
      "(97, 2)\n"
     ]
    },
    {
     "data": {
      "text/plain": [
       "array([[  6.1101,  17.592 ],\n",
       "       [  5.5277,   9.1302],\n",
       "       [  8.5186,  13.662 ],\n",
       "       [  7.0032,  11.854 ],\n",
       "       [  5.8598,   6.8233]])"
      ]
     },
     "execution_count": 2,
     "metadata": {},
     "output_type": "execute_result"
    }
   ],
   "source": [
    "exercise_1_data = np.genfromtxt(\"ex1data1.txt\", delimiter=\",\", dtype = float)\n",
    "print(exercise_1_data.shape)\n",
    "exercise_1_data[0:5]"
   ]
  },
  {
   "cell_type": "markdown",
   "metadata": {},
   "source": [
    "Creating training data matrix X and target values y"
   ]
  },
  {
   "cell_type": "code",
   "execution_count": 3,
   "metadata": {
    "collapsed": false
   },
   "outputs": [
    {
     "name": "stdout",
     "output_type": "stream",
     "text": [
      "(97, 1)\n"
     ]
    },
    {
     "data": {
      "text/plain": [
       "array([[ 6.1101],\n",
       "       [ 5.5277],\n",
       "       [ 8.5186],\n",
       "       [ 7.0032],\n",
       "       [ 5.8598]])"
      ]
     },
     "execution_count": 3,
     "metadata": {},
     "output_type": "execute_result"
    }
   ],
   "source": [
    "X_train = exercise_1_data[:,0] \n",
    "X_train = X_train.reshape( (len(X_train),1) )\n",
    "print(X_train.shape)\n",
    "X_train[0:5]"
   ]
  },
  {
   "cell_type": "code",
   "execution_count": 4,
   "metadata": {
    "collapsed": false
   },
   "outputs": [
    {
     "name": "stdout",
     "output_type": "stream",
     "text": [
      "(97, 1)\n"
     ]
    },
    {
     "data": {
      "text/plain": [
       "array([[ 17.592 ],\n",
       "       [  9.1302],\n",
       "       [ 13.662 ],\n",
       "       [ 11.854 ],\n",
       "       [  6.8233]])"
      ]
     },
     "execution_count": 4,
     "metadata": {},
     "output_type": "execute_result"
    }
   ],
   "source": [
    "y_train = exercise_1_data[:,1] \n",
    "y_train = y_train.reshape( (len(y_train),1) )\n",
    "print(y_train.shape)\n",
    "y_train[0:5]"
   ]
  },
  {
   "cell_type": "markdown",
   "metadata": {},
   "source": [
    "Plotting the data."
   ]
  },
  {
   "cell_type": "code",
   "execution_count": 5,
   "metadata": {
    "collapsed": false
   },
   "outputs": [
    {
     "data": {
      "text/plain": [
       "(-5.0, 25.0)"
      ]
     },
     "execution_count": 5,
     "metadata": {},
     "output_type": "execute_result"
    },
    {
     "data": {
      "image/png": "[encoded data removed]",
      "text/plain": [
       "<matplotlib.figure.Figure at 0x115973400>"
      ]
     },
     "metadata": {},
     "output_type": "display_data"
    }
   ],
   "source": [
    "plt.figure(figsize=(8, 6))\n",
    "plt.scatter(X_train, y_train, marker = \"+\", color = \"red\", s=70)\n",
    "plt.xlabel(\"Population of City in 10,000s\", fontsize = 16)\n",
    "plt.ylabel(\"Profit in $10,00s\", fontsize = 16)\n",
    "plt.xlim((4.0,24.0))\n",
    "plt.ylim((-5.0,25.0))"
   ]
  },
  {
   "cell_type": "markdown",
   "metadata": {},
   "source": [
    "## Gradient Descent Function"
   ]
  },
  {
   "cell_type": "markdown",
   "metadata": {},
   "source": [
    "First building helper function to make predictions given data and the weights and bias."
   ]
  },
  {
   "cell_type": "code",
   "execution_count": 6,
   "metadata": {
    "collapsed": true
   },
   "outputs": [],
   "source": [
    "def predicted_values(bias, weights, X_data):\n",
    "    \n",
    "    predictions = bias + np.dot( X_data, weights )\n",
    "    \n",
    "    return predictions"
   ]
  },
  {
   "cell_type": "markdown",
   "metadata": {},
   "source": [
    "This function takes as input the training data X_data and y_data (the target values) and the number of iterations and learning rate for gradient descent. This function returns the weights and bias learned by gradient descent and the value of the cost function after each iteration."
   ]
  },
  {
   "cell_type": "code",
   "execution_count": 7,
   "metadata": {
    "collapsed": false
   },
   "outputs": [],
   "source": [
    "def grad_desc(X_data, y_data, N_iterations, learning_rate):\n",
    "    \n",
    "    # Getting the number of training examples and features from the dataset\n",
    "    m_train = y_train.shape[0]\n",
    "    N_features = X_data.shape[1]\n",
    "    \n",
    "    # Initializing all the weights and bias term to 0.0\n",
    "    # The weights is a vector of dimensions ( N_features, 1 )\n",
    "    weights = np.zeros( ( N_features, 1 ) , dtype = float )\n",
    "    bias = 0.0\n",
    "    \n",
    "    # Initializing an array to hold the value of the cost function for each iteration\n",
    "    J_cost = np.zeros( N_iterations + 1 , dtype = float )    \n",
    "    \n",
    "    # Performing gradient descent over the N_iterations\n",
    "    for i in range( 0, N_iterations+1, 1):\n",
    "        \n",
    "        # Using the current weights to calculate the predictions and errors\n",
    "        predictions = predicted_values(bias, weights, X_data)\n",
    "        errors = predictions - y_data\n",
    "        \n",
    "        # Using the errors to calculate the cost function\n",
    "        J_cost[i] = (1.0/(2.0*m_train))*np.sum( errors**2 )\n",
    "        \n",
    "        # Calculate db and dw, the values by which we will update the weights and bias\n",
    "        db = (1.0/m_train)*np.sum( errors )\n",
    "        dw = (1.0/m_train)* np.dot( X_data.T, errors )\n",
    "        \n",
    "        # Updating the weight and bias with db and dw times the learning rate\n",
    "        bias -= learning_rate*db\n",
    "        weights -= learning_rate*dw\n",
    "    \n",
    "    # Putting the learned parameters into a dictionary\n",
    "    learned_params = { \"weights\": weights, \"bias\": bias }\n",
    "    \n",
    "    # Returning the learned parameters with gradient descent \n",
    "    # and the cost function after each iteration\n",
    "    return learned_params, J_cost"
   ]
  },
  {
   "cell_type": "markdown",
   "metadata": {},
   "source": [
    "## Best Fit Line from gradient descent"
   ]
  },
  {
   "cell_type": "markdown",
   "metadata": {},
   "source": [
    "Plotting the cost function for several values of the learning rate."
   ]
  },
  {
   "cell_type": "code",
   "execution_count": 8,
   "metadata": {
    "collapsed": false
   },
   "outputs": [
    {
     "name": "stderr",
     "output_type": "stream",
     "text": [
      "/Users/rodolfosantana/anaconda/lib/python3.6/site-packages/ipykernel/__main__.py:23: RuntimeWarning: overflow encountered in square\n",
      "/Users/rodolfosantana/anaconda/lib/python3.6/site-packages/ipykernel/__main__.py:31: RuntimeWarning: invalid value encountered in subtract\n"
     ]
    },
    {
     "data": {
      "text/plain": [
       "<matplotlib.legend.Legend at 0x1159a1160>"
      ]
     },
     "execution_count": 8,
     "metadata": {},
     "output_type": "execute_result"
    },
    {
     "data": {
      "image/png": "[encoded data removed]",
      "text/plain": [
       "<matplotlib.figure.Figure at 0x1159a1ac8>"
      ]
     },
     "metadata": {},
     "output_type": "display_data"
    }
   ],
   "source": [
    "plt.figure(figsize=(8, 6))\n",
    "\n",
    "learn_rate_vals = np.array([ 1.0e-4, 3.0e-4, 1.0e-3, 3.0e-3, 1.0e-2, 3.0e-2, 1.0e-1])\n",
    "\n",
    "for i in range(len(learn_rate_vals)):\n",
    "    learned_params, J_cost = grad_desc( X_data = X_train, y_data = y_train, \n",
    "                                       N_iterations = 500, learning_rate = learn_rate_vals[i])\n",
    "    \n",
    "    N_iterations = np.array(range(len(J_cost)))\n",
    "    plt.plot(N_iterations,J_cost, label = r\"$\\alpha = $\" + str(learn_rate_vals[i]))\n",
    "    \n",
    "    \n",
    "plt.xlim((0.0,100.0))\n",
    "plt.ylim((0.0,35.0))\n",
    "plt.legend(loc=\"upper right\")"
   ]
  },
  {
   "cell_type": "markdown",
   "metadata": {},
   "source": [
    "Choosing the learning rate with the fastest convergence"
   ]
  },
  {
   "cell_type": "code",
   "execution_count": 9,
   "metadata": {
    "collapsed": false
   },
   "outputs": [
    {
     "name": "stdout",
     "output_type": "stream",
     "text": [
      "{'weights': array([[ 1.16641043]]), 'bias': -3.6307700095575353}\n"
     ]
    }
   ],
   "source": [
    "learned_params, J_cost = grad_desc( X_data = X_train, y_data = y_train, N_iterations = 1500, learning_rate = 0.01)\n",
    "print( learned_params )"
   ]
  },
  {
   "cell_type": "code",
   "execution_count": 10,
   "metadata": {
    "collapsed": false
   },
   "outputs": [
    {
     "data": {
      "text/plain": [
       "(0.0, 35.0)"
      ]
     },
     "execution_count": 10,
     "metadata": {},
     "output_type": "execute_result"
    },
    {
     "data": {
      "image/png": "[encoded data removed]",
      "text/plain": [
       "<matplotlib.figure.Figure at 0x119295438>"
      ]
     },
     "metadata": {},
     "output_type": "display_data"
    }
   ],
   "source": [
    "plt.figure(figsize=(8, 6))\n",
    "N_iterations = np.array(range(len(J_cost)))\n",
    "plt.plot(N_iterations,J_cost)\n",
    "plt.xlim((0.0,100.0))\n",
    "plt.xlim((0.0,35.0))"
   ]
  },
  {
   "cell_type": "code",
   "execution_count": 11,
   "metadata": {
    "collapsed": false
   },
   "outputs": [
    {
     "data": {
      "text/plain": [
       "(-5.0, 25.0)"
      ]
     },
     "execution_count": 11,
     "metadata": {},
     "output_type": "execute_result"
    },
    {
     "data": {
      "image/png": "[encoded data removed]",
      "text/plain": [
       "<matplotlib.figure.Figure at 0x1192bf710>"
      ]
     },
     "metadata": {},
     "output_type": "display_data"
    }
   ],
   "source": [
    "x_vals_fit = np.arange( np.min(X_train), np.max(X_train) + 0.01, 0.01 )\n",
    "x_vals_fit = x_vals_fit.reshape(len(x_vals_fit),1)\n",
    "y_vals_fit = predicted_values( bias = learned_params[\"bias\"] , weights = learned_params[\"weights\"], X_data = x_vals_fit )\n",
    "plt.figure(figsize=(8, 6))\n",
    "plt.scatter(X_train, y_train, marker = \"+\", color = \"red\")\n",
    "plt.plot( x_vals_fit, y_vals_fit, color=\"blue\" )\n",
    "plt.xlabel(\"Population of City in 10,000s\", fontsize = 16)\n",
    "plt.ylabel(\"Profit in $10,00s\", fontsize = 16)\n",
    "plt.xlim((4.0,24.0))\n",
    "plt.ylim((-5.0,25.0))"
   ]
  },
  {
   "cell_type": "markdown",
   "metadata": {},
   "source": [
    "## Learning Parameters with the Normal Equation\n"
   ]
  },
  {
   "cell_type": "code",
   "execution_count": 12,
   "metadata": {
    "collapsed": true
   },
   "outputs": [],
   "source": [
    "def normal_eqn( X_data, y_data ):\n",
    "    \n",
    "    # Adding a column of ones to X_data for the bias feature\n",
    "    X_data = np.column_stack( ( np.ones( ( X_train.shape[0], 1 ) )  , X_train ) )\n",
    "    \n",
    "    inv_matrix = np.linalg.pinv( np.dot( X_data.T, X_data ) )\n",
    "    \n",
    "    weights = np.dot( np.dot( inv_matrix, X_data.T ) , y_data )\n",
    "    \n",
    "    # Putting the learned parameters into a dictionary\n",
    "    learned_params = { \"weights\": weights[1:,0], \"bias\": weights[0,0] }\n",
    "    \n",
    "    # Returning the learned parameters with the normal equation\n",
    "    return learned_params\n",
    "    "
   ]
  },
  {
   "cell_type": "markdown",
   "metadata": {},
   "source": [
    "Comparing the parameters learned by the normal equation to the parameters learned by gradient descent."
   ]
  },
  {
   "cell_type": "code",
   "execution_count": 13,
   "metadata": {
    "collapsed": false
   },
   "outputs": [
    {
     "name": "stdout",
     "output_type": "stream",
     "text": [
      "-3.89578087831\n",
      "-3.63077000956\n",
      "[ 1.19303364]\n",
      "[[ 1.16641043]]\n"
     ]
    }
   ],
   "source": [
    "normal_eq_params = normal_eqn( X_train , y_train )\n",
    "print( normal_eq_params[\"bias\"] )\n",
    "print( learned_params[\"bias\"] )\n",
    "print( normal_eq_params[\"weights\"] )\n",
    "print( learned_params[\"weights\"] )"
   ]
  },
  {
   "cell_type": "markdown",
   "metadata": {},
   "source": [
    "# Linear Regression with Multiple Variables"
   ]
  },
  {
   "cell_type": "markdown",
   "metadata": {},
   "source": [
    "Loading data from text file into a numpy ndarray."
   ]
  },
  {
   "cell_type": "code",
   "execution_count": 14,
   "metadata": {
    "collapsed": false
   },
   "outputs": [
    {
     "name": "stdout",
     "output_type": "stream",
     "text": [
      "(47, 3)\n"
     ]
    },
    {
     "data": {
      "text/plain": [
       "array([[  2.10400000e+03,   3.00000000e+00,   3.99900000e+05],\n",
       "       [  1.60000000e+03,   3.00000000e+00,   3.29900000e+05],\n",
       "       [  2.40000000e+03,   3.00000000e+00,   3.69000000e+05],\n",
       "       [  1.41600000e+03,   2.00000000e+00,   2.32000000e+05],\n",
       "       [  3.00000000e+03,   4.00000000e+00,   5.39900000e+05]])"
      ]
     },
     "execution_count": 14,
     "metadata": {},
     "output_type": "execute_result"
    }
   ],
   "source": [
    "exercise_2_data = np.genfromtxt(\"ex1data2.txt\", delimiter=\",\", dtype = float)\n",
    "print(exercise_2_data.shape)\n",
    "exercise_2_data[0:5]"
   ]
  },
  {
   "cell_type": "markdown",
   "metadata": {},
   "source": [
    "Creating training data matrix X and target values y"
   ]
  },
  {
   "cell_type": "code",
   "execution_count": 15,
   "metadata": {
    "collapsed": false
   },
   "outputs": [
    {
     "name": "stdout",
     "output_type": "stream",
     "text": [
      "(47, 2)\n"
     ]
    },
    {
     "data": {
      "text/plain": [
       "array([[  2.10400000e+03,   3.00000000e+00],\n",
       "       [  1.60000000e+03,   3.00000000e+00],\n",
       "       [  2.40000000e+03,   3.00000000e+00],\n",
       "       [  1.41600000e+03,   2.00000000e+00],\n",
       "       [  3.00000000e+03,   4.00000000e+00]])"
      ]
     },
     "execution_count": 15,
     "metadata": {},
     "output_type": "execute_result"
    }
   ],
   "source": [
    "X_train = exercise_2_data[:, 0:2 ]\n",
    "print(X_train.shape)\n",
    "X_train[0:5]"
   ]
  },
  {
   "cell_type": "code",
   "execution_count": 16,
   "metadata": {
    "collapsed": false
   },
   "outputs": [
    {
     "name": "stdout",
     "output_type": "stream",
     "text": [
      "(47, 1)\n"
     ]
    },
    {
     "data": {
      "text/plain": [
       "array([[ 399900.],\n",
       "       [ 329900.],\n",
       "       [ 369000.],\n",
       "       [ 232000.],\n",
       "       [ 539900.]])"
      ]
     },
     "execution_count": 16,
     "metadata": {},
     "output_type": "execute_result"
    }
   ],
   "source": [
    "y_train = exercise_2_data[:,-1] \n",
    "y_train = y_train.reshape( (len(y_train),1) )\n",
    "print(y_train.shape)\n",
    "y_train[0:5]"
   ]
  },
  {
   "cell_type": "markdown",
   "metadata": {},
   "source": [
    "## Feature Normatization or Feature Scaling"
   ]
  },
  {
   "cell_type": "markdown",
   "metadata": {},
   "source": [
    "Building a function to perform feature scalling. This will allow gradient descent to converge more quickly."
   ]
  },
  {
   "cell_type": "code",
   "execution_count": 17,
   "metadata": {
    "collapsed": true
   },
   "outputs": [],
   "source": [
    "def normalize_features( X_data ):\n",
    "    \n",
    "    X_data_norm =  np.zeros( X_data.shape )\n",
    "    \n",
    "    mean_std_features = {}\n",
    "    \n",
    "    for i in range( X_data.shape[1] ):\n",
    "        \n",
    "        X_i_mean = np.mean( X_data[:,i] )\n",
    "        X_i_std = np.std( X_data[:,i] )\n",
    "        \n",
    "        X_data_norm[:,i] = ( X_data[:,i] - X_i_mean )/X_i_std\n",
    "        \n",
    "        mean_std_features[str(i)] = np.array([X_i_mean, X_i_std])\n",
    "        \n",
    "        \n",
    "    return X_data_norm, mean_std_features"
   ]
  },
  {
   "cell_type": "code",
   "execution_count": 18,
   "metadata": {
    "collapsed": true
   },
   "outputs": [],
   "source": [
    "X_train_norm, X_mean_std_train_feats = normalize_features( X_train )\n",
    "y_train_norm, y_mean_std_train_feats = normalize_features( y_train )"
   ]
  },
  {
   "cell_type": "markdown",
   "metadata": {},
   "source": [
    "## Multivariable Gradient Descent"
   ]
  },
  {
   "cell_type": "markdown",
   "metadata": {},
   "source": [
    "Plotting the cost function for several values of the learning rate."
   ]
  },
  {
   "cell_type": "code",
   "execution_count": 19,
   "metadata": {
    "collapsed": false
   },
   "outputs": [
    {
     "name": "stderr",
     "output_type": "stream",
     "text": [
      "/Users/rodolfosantana/anaconda/lib/python3.6/site-packages/ipykernel/__main__.py:23: RuntimeWarning: overflow encountered in square\n"
     ]
    },
    {
     "data": {
      "text/plain": [
       "<matplotlib.legend.Legend at 0x1194d1278>"
      ]
     },
     "execution_count": 19,
     "metadata": {},
     "output_type": "execute_result"
    },
    {
     "data": {
      "image/png": "[encoded data removed]",
      "text/plain": [
       "<matplotlib.figure.Figure at 0x1194d1710>"
      ]
     },
     "metadata": {},
     "output_type": "display_data"
    }
   ],
   "source": [
    "plt.figure(figsize=(8, 6))\n",
    "\n",
    "learn_rate_vals = np.array([ 1.0e-3, 3.0e-3, 1.0e-2, 3.0e-2, 1.0e-1, 3.0e-1, 1.0, 3.0, 10.0])\n",
    "\n",
    "for i in range(len(learn_rate_vals)):\n",
    "    learned_params, J_cost = grad_desc( X_data = X_train_norm, y_data = y_train_norm, \n",
    "                                        N_iterations = 1000, learning_rate = learn_rate_vals[i])\n",
    "    \n",
    "    N_iterations = np.array(range(len(J_cost)))\n",
    "    plt.plot(N_iterations,J_cost, label = r\"$\\alpha = $\" + str(learn_rate_vals[i]))\n",
    "    \n",
    "    \n",
    "plt.xlim((0.0,100.0))\n",
    "plt.ylim((0.0,0.5))\n",
    "plt.legend(loc=\"upper right\")"
   ]
  },
  {
   "cell_type": "markdown",
   "metadata": {},
   "source": [
    "Choosing the learning rate with the fastest convergence"
   ]
  },
  {
   "cell_type": "code",
   "execution_count": 20,
   "metadata": {
    "collapsed": false
   },
   "outputs": [
    {
     "name": "stdout",
     "output_type": "stream",
     "text": [
      "{'weights': array([[ 0.88476599],\n",
      "       [-0.05317882]]), 'bias': -9.4487065925542071e-17}\n"
     ]
    },
    {
     "data": {
      "text/plain": [
       "(0.0, 50.0)"
      ]
     },
     "execution_count": 20,
     "metadata": {},
     "output_type": "execute_result"
    },
    {
     "data": {
      "image/png": "[encoded data removed]",
      "text/plain": [
       "<matplotlib.figure.Figure at 0x1194e2470>"
      ]
     },
     "metadata": {},
     "output_type": "display_data"
    }
   ],
   "source": [
    "learned_params_feat_scaled, J_cost = grad_desc( X_data = X_train_norm, y_data = y_train_norm, \n",
    "                                   N_iterations = 1000, learning_rate = 1.0)\n",
    "print( learned_params_feat_scaled )\n",
    "\n",
    "plt.figure(figsize=(8, 6))\n",
    "N_iterations = np.array(range(len(J_cost)))\n",
    "plt.plot(N_iterations,J_cost)\n",
    "plt.xlim((0.0,50.0))"
   ]
  },
  {
   "cell_type": "markdown",
   "metadata": {},
   "source": [
    "## Learning Parameters with the Normal Equation"
   ]
  },
  {
   "cell_type": "markdown",
   "metadata": {},
   "source": [
    "We do not need to apply feature scaling to learn the weights with the normal equation."
   ]
  },
  {
   "cell_type": "code",
   "execution_count": 21,
   "metadata": {
    "collapsed": false
   },
   "outputs": [
    {
     "name": "stdout",
     "output_type": "stream",
     "text": [
      "89597.9095436\n",
      "[  139.21067402 -8738.01911255]\n"
     ]
    }
   ],
   "source": [
    "normal_eq_params = normal_eqn( X_train , y_train )\n",
    "print( normal_eq_params[\"bias\"] )\n",
    "print( normal_eq_params[\"weights\"] )"
   ]
  },
  {
   "cell_type": "markdown",
   "metadata": {},
   "source": [
    "Getting the mean and standard deviation values from the dataset to rescale the weights learned with feature scaling to compare to the weights learned by the normal equation (with no feature scaling)."
   ]
  },
  {
   "cell_type": "code",
   "execution_count": 22,
   "metadata": {
    "collapsed": false
   },
   "outputs": [],
   "source": [
    "mean_x1 = X_mean_std_train_feats['0'][0]\n",
    "mean_x2 = X_mean_std_train_feats['1'][0]\n",
    "mean_y = y_mean_std_train_feats['0'][0]\n",
    "sigma_x1 = X_mean_std_train_feats['0'][1]\n",
    "sigma_x2 = X_mean_std_train_feats['1'][1]\n",
    "sigma_y = y_mean_std_train_feats['0'][1]\n",
    "b_feat_scaled = learned_params_feat_scaled[\"bias\"]\n",
    "w1_feat_scaled = learned_params_feat_scaled[\"weights\"][0]\n",
    "w2_feat_scaled = learned_params_feat_scaled[\"weights\"][1]"
   ]
  },
  {
   "cell_type": "markdown",
   "metadata": {},
   "source": [
    "In the equation below $w_{1}$ is the weight learned for the first feature with the normal equation without feature scaling and $w_{1} ^{\\prime}$ is the weight learned for the first feature with gradient descent with feature scaling."
   ]
  },
  {
   "cell_type": "markdown",
   "metadata": {},
   "source": [
    "$$ w_{1} = \\frac{\\sigma_{y}}{\\sigma_{x1}} w_{1} ^{\\prime} $$"
   ]
  },
  {
   "cell_type": "code",
   "execution_count": 23,
   "metadata": {
    "collapsed": false
   },
   "outputs": [
    {
     "name": "stdout",
     "output_type": "stream",
     "text": [
      "139.210674018\n",
      "139.21067401762554\n"
     ]
    }
   ],
   "source": [
    "print(normal_eq_params[\"weights\"][0])\n",
    "print( float( (sigma_y/sigma_x1)*w1_feat_scaled ) )"
   ]
  },
  {
   "cell_type": "markdown",
   "metadata": {},
   "source": [
    "In the equation below $w_{2}$ is the weight learned for the second feature with the normal equation without feature scaling and $w_{2} ^{\\prime}$ is the weight learned for the second feature with gradient descent with feature scaling."
   ]
  },
  {
   "cell_type": "markdown",
   "metadata": {},
   "source": [
    "$$ w_{2} = \\frac{\\sigma_{y}}{\\sigma_{x1}} w_{2} ^{\\prime} $$"
   ]
  },
  {
   "cell_type": "code",
   "execution_count": 24,
   "metadata": {
    "collapsed": false
   },
   "outputs": [
    {
     "name": "stdout",
     "output_type": "stream",
     "text": [
      "-8738.01911255\n",
      "-8738.019112327835\n"
     ]
    }
   ],
   "source": [
    "print(normal_eq_params[\"weights\"][1])\n",
    "print( float( (sigma_y/sigma_x2)*w2_feat_scaled ) )"
   ]
  },
  {
   "cell_type": "code",
   "execution_count": null,
   "metadata": {
    "collapsed": false
   },
   "outputs": [],
   "source": []
  },
  {
   "cell_type": "code",
   "execution_count": null,
   "metadata": {
    "collapsed": true
   },
   "outputs": [],
   "source": []
  }
 ],
 "metadata": {
  "kernelspec": {
   "display_name": "Python 3",
   "language": "python",
   "name": "python3"
  },
  "language_info": {
   "codemirror_mode": {
    "name": "ipython",
    "version": 3
   },
   "file_extension": ".py",
   "mimetype": "text/x-python",
   "name": "python",
   "nbconvert_exporter": "python",
   "pygments_lexer": "ipython3",
   "version": "3.6.0"
  }
 },
 "nbformat": 4,
 "nbformat_minor": 2
}
